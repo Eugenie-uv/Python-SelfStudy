{
 "cells": [
  {
   "cell_type": "code",
   "execution_count": 2,
   "metadata": {
    "ExecuteTime": {
     "end_time": "2019-09-25T06:48:35.343740Z",
     "start_time": "2019-09-25T06:48:35.338739Z"
    },
    "collapsed": true
   },
   "outputs": [],
   "source": [
    "import zipfile "
   ]
  },
  {
   "cell_type": "code",
   "execution_count": null,
   "metadata": {
    "ExecuteTime": {
     "start_time": "2019-09-25T06:55:50.499Z"
    },
    "collapsed": true
   },
   "outputs": [],
   "source": [
    "f = zipfile.ZipFile(\"./MLiAc2_mnist_txt.zip\", \"r\") #原压缩文件在服务器的位置\n",
    "\n",
    "for file in f.namelist():\n",
    "    f.extract(file, \"./\") #MLiAc2_mnist_txt/\")\n",
    "f.close()\n"
   ]
  },
  {
   "cell_type": "code",
   "execution_count": null,
   "metadata": {
    "collapsed": true
   },
   "outputs": [],
   "source": [
    "# zip -r data.zip data #前面data.zip是要打包的文件夹，后面的data是被打包的文件名"
   ]
  },
  {
   "cell_type": "code",
   "execution_count": null,
   "metadata": {},
   "outputs": [],
   "source": [
    "f = zipfile.ZipFile(\"./MLiAc4_spam.zip\", \"r\") #原压缩文件在服务器的位置\n",
    "\n",
    "for file in f.namelist():\n",
    "    f.extract(file, \"./\") #MLiAc2_mnist_txt/\")\n",
    "f.close()\n",
    "\n",
    "f = zipfile.ZipFile(\"./MLiAc4_ham_txt.zip\", \"r\") #原压缩文件在服务器的位置\n",
    "\n",
    "for file in f.namelist():\n",
    "    f.extract(file, \"./\") #MLiAc2_mnist_txt/\")\n",
    "f.close()"
   ]
  }
 ],
 "metadata": {
  "kernelspec": {
   "display_name": "Python 3",
   "language": "python",
   "name": "python3"
  },
  "language_info": {
   "codemirror_mode": {
    "name": "ipython",
    "version": 3
   },
   "file_extension": ".py",
   "mimetype": "text/x-python",
   "name": "python",
   "nbconvert_exporter": "python",
   "pygments_lexer": "ipython3",
   "version": "3.7.0"
  },
  "toc": {
   "base_numbering": 1,
   "nav_menu": {},
   "number_sections": true,
   "sideBar": true,
   "skip_h1_title": false,
   "title_cell": "Table of Contents",
   "title_sidebar": "Contents",
   "toc_cell": false,
   "toc_position": {},
   "toc_section_display": true,
   "toc_window_display": false
  },
  "varInspector": {
   "cols": {
    "lenName": 16,
    "lenType": 16,
    "lenVar": 40
   },
   "kernels_config": {
    "python": {
     "delete_cmd_postfix": "",
     "delete_cmd_prefix": "del ",
     "library": "var_list.py",
     "varRefreshCmd": "print(var_dic_list())"
    },
    "r": {
     "delete_cmd_postfix": ") ",
     "delete_cmd_prefix": "rm(",
     "library": "var_list.r",
     "varRefreshCmd": "cat(var_dic_list()) "
    }
   },
   "types_to_exclude": [
    "module",
    "function",
    "builtin_function_or_method",
    "instance",
    "_Feature"
   ],
   "window_display": false
  }
 },
 "nbformat": 4,
 "nbformat_minor": 2
}
