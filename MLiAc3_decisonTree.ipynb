{
 "cells": [
  {
   "cell_type": "markdown",
   "metadata": {},
   "source": [
    "# 学习\n",
    "## 制造树"
   ]
  },
  {
   "cell_type": "code",
   "execution_count": 1,
   "metadata": {
    "ExecuteTime": {
     "end_time": "2019-11-01T06:15:21.201736Z",
     "start_time": "2019-11-01T06:15:21.186136Z"
    }
   },
   "outputs": [],
   "source": [
    "import math\n",
    "import operator"
   ]
  },
  {
   "cell_type": "code",
   "execution_count": 2,
   "metadata": {
    "ExecuteTime": {
     "end_time": "2019-11-01T06:15:21.295337Z",
     "start_time": "2019-11-01T06:15:21.201736Z"
    },
    "_cell_guid": "79c7e3d0-c299-4dcb-8224-4455121ee9b0",
    "_uuid": "d629ff2d2480ee46fbb7e2d37f6b5fab8052498a"
   },
   "outputs": [],
   "source": [
    "# Calculate Shannon Entropy\n",
    "# E = -[pi*log_2`pi\n",
    "# 计算香农熵\n",
    "def calcShannonEnt(dataSet):\n",
    "    numEntries = len(dataSet)\n",
    "    labelCounts = {}\n",
    "    \n",
    "    for featVec in dataSet:\n",
    "        currentLabel = featVec[-1] #标签存储在最后一列\n",
    "        if currentLabel not in labelCounts.keys(): #找出不一样的标签并为它创建字典的键\n",
    "            labelCounts[currentLabel] = 0\n",
    "        labelCounts[currentLabel] += 1\n",
    "    \n",
    "    shannonEnt = 0.0\n",
    "    for key in labelCounts:\n",
    "        prob = float(labelCounts[key])/numEntries\n",
    "        shannonEnt = -prob * math.log(prob, 2)\n",
    "    \n",
    "    return shannonEnt\n",
    "            \n",
    "    \n",
    "def createDataset():\n",
    "    data = [[1, 1, 'yes'],\n",
    "           [1, 1, 'yes'],\n",
    "           [1, 0, 'no'],\n",
    "           [0, 1, 'no'],\n",
    "           [0, 1, 'no']]\n",
    "    labels = ['no surfacing', 'flippers']\n",
    "\n",
    "    return data, labels\n",
    "\n",
    "def splitDataSet(dataset, axis, value):\n",
    "    data = []\n",
    "    for feaVec in dataset:\n",
    "        if feaVec[axis] == value:\n",
    "            splitFect = feaVec[:axis]\n",
    "            splitFect.extend(feaVec[axis+1:])\n",
    "            \n",
    "            data.append(splitFect)\n",
    "    return data\n",
    "            \n",
    "    \n",
    "# 选取最好的数据划分方式\n",
    "def chooseBestFeat(dataset):\n",
    "    bestFeat = -1 #初始best feature为最后一个\n",
    "    baseEntropy = calcShannonEnt(dataset)\n",
    "    bestInfoGain = 0.0\n",
    "    numFeats = len(dataset[0]) - 1 #bestFeat有初始值了\n",
    "    \n",
    "    for i in range(numFeats):\n",
    "        featList = [item[i] for item in dataset]\n",
    "        uniqueVals = set(featList)\n",
    "        newEnt = 0.0\n",
    "        for value in uniqueVals:\n",
    "            sub_data = splitDataSet(dataset, i, value)\n",
    "            prob  = len(sub_data) / float(len(dataset))\n",
    "            newEnt += prob * calcShannonEnt(sub_data)\n",
    "            \n",
    "        InfoGain = baseEntropy - newEnt\n",
    "#         print('base, in', baseEntropy, InfoGain)\n",
    "        if (InfoGain > bestInfoGain):\n",
    "            bestInfoGain = InfoGain\n",
    "            bestFeat = i\n",
    "#             print('bestFeat:', bestFeat)\n",
    "    \n",
    "    return bestFeat\n",
    "\n",
    "# 从小到大排序 找到 出现次数最多的类别\n",
    "def majorityCnt(classList):\n",
    "    classCount = {} #用字典来存储类别名称\n",
    "    \n",
    "    for vote in classList:\n",
    "        if vote not in classCount.keys(): classCount[vote] = 0\n",
    "        classCount[vote] += 1\n",
    "    \n",
    "    # 字典排序\n",
    "    sortedClassCount = sorted(classCount.items(), key=operator.itemgetter(1), reverse=True)\n",
    "    \n",
    "    return sortedClassCount\n",
    "\n",
    "def createTree(dataset, labels):\n",
    "    class_list = [item[-1] for item in dataset]\n",
    "    if class_list.count(class_list[0]) == len(class_list): #类别完全一样了\n",
    "        return class_list[0]\n",
    "    if len(dataset[0]) == 1: #只剩一个特征了\n",
    "        return majorityCnt[class_list]\n",
    "    \n",
    "    bestFeat = chooseBestFeat(dataset)\n",
    "#     print('bestFeat', bestFeat)\n",
    "#     print('labels', labels)\n",
    "    \n",
    "    bestFeatLabel = labels[bestFeat]\n",
    "    \n",
    "    myTree = {bestFeatLabel:{}}\n",
    "    \n",
    "    del(labels[bestFeat]) #删掉已经用的fetature\n",
    "    \n",
    "    feat_value = [item[bestFeat] for item in dataset]\n",
    "    uniquefeat = set(feat_value)\n",
    "    \n",
    "    for value in uniquefeat:\n",
    "        subLabel = labels[:]\n",
    "        myTree[bestFeatLabel][value] = createTree(splitDataSet(dataset, bestFeat, value), subLabel)\n",
    "    \n",
    "    return myTree\n",
    "        \n",
    "    \n",
    "dataset, labels = createDataset()\n",
    "\n",
    "myTree = createTree(dataset, labels)\n",
    "\n",
    "\n"
   ]
  },
  {
   "cell_type": "code",
   "execution_count": 3,
   "metadata": {
    "ExecuteTime": {
     "end_time": "2019-11-01T06:15:21.388937Z",
     "start_time": "2019-11-01T06:15:21.295337Z"
    }
   },
   "outputs": [
    {
     "data": {
      "text/plain": [
       "{'no surfacing': {0: 'no', 1: {'flippers': {0: 'no', 1: 'yes'}}}}"
      ]
     },
     "execution_count": 3,
     "metadata": {},
     "output_type": "execute_result"
    }
   ],
   "source": [
    "myTree"
   ]
  },
  {
   "cell_type": "markdown",
   "metadata": {},
   "source": [
    "## 画树"
   ]
  },
  {
   "cell_type": "code",
   "execution_count": 4,
   "metadata": {
    "ExecuteTime": {
     "end_time": "2019-11-01T06:15:22.168938Z",
     "start_time": "2019-11-01T06:15:21.388937Z"
    }
   },
   "outputs": [],
   "source": [
    "import matplotlib.pyplot as plt\n",
    "%matplotlib inline"
   ]
  },
  {
   "cell_type": "code",
   "execution_count": 5,
   "metadata": {
    "ExecuteTime": {
     "end_time": "2019-11-01T06:15:22.200138Z",
     "start_time": "2019-11-01T06:15:22.168938Z"
    }
   },
   "outputs": [],
   "source": [
    "# 定义文本框和箭头格式\n",
    "decisionNode = dict(boxstyle='sawtooth', fc='0.8')\n",
    "leafNode = dict(boxstyle='round4', fc='0.8')\n",
    "arrow_args = dict(arrowstyle='<-')\n",
    "\n",
    "# 实际绘图：绘制带箭头的注释 \n",
    "def plotNode(nodeTxt, centerPt, parentPt, nodeType):\n",
    "    createPlot.ax1.annotate(nodeTxt, xy=parentPt, xycoords='axes fraction', \n",
    "                            xytext=centerPt, textcoords='axes fraction',\n",
    "                           va='center', ha='center', bbox=nodeType, arrowprops=arrow_args)\n",
    "\n",
    "# 获取叶节点数：决定x轴的长度\n",
    "def getNumLeafs(myTree):\n",
    "    numLeafs = 0\n",
    "    \n",
    "    firstStr = list(myTree.keys())[0]\n",
    "    secondDict = myTree[firstStr]\n",
    "    \n",
    "    for key in secondDict.keys():\n",
    "        if type(secondDict[key]).__name__ == \"dict\":\n",
    "            numLeafs += getNumLeafs(secondDict[key]) \n",
    "        else: numLeafs += 1\n",
    "    return numLeafs\n",
    "    \n",
    "\n",
    "# 获取树的层数：决定y轴的高度\n",
    "def getTreeDepth(myTree):\n",
    "    maxDepth = 0\n",
    "    \n",
    "    firstStr = list(myTree.keys())[0]\n",
    "    secondDict = myTree[firstStr]\n",
    "    \n",
    "    for key in secondDict.keys():\n",
    "        if type(secondDict[key]).__name__ == 'dict':\n",
    "            thisDepth = 1 + getTreeDepth(secondDict[key])\n",
    "        else:\n",
    "            thisDepth = 1\n",
    "        if thisDepth > maxDepth: maxDepth = thisDepth\n",
    "    return maxDepth\n",
    "\n",
    "# 在父子节点中间位置写文字\n",
    "def plotMidText(cntrPt, parentPt, txtString):\n",
    "    xMid = (parentPt[0]-cntrPt[0])/2.0 + cntrPt[0]\n",
    "    yMid = (parentPt[1]-cntrPt[1])/2.0 + cntrPt[1]\n",
    "    \n",
    "    createPlot.ax1.text(xMid, yMid, txtString)"
   ]
  },
  {
   "cell_type": "code",
   "execution_count": 6,
   "metadata": {
    "ExecuteTime": {
     "end_time": "2019-11-01T06:15:22.309338Z",
     "start_time": "2019-11-01T06:15:22.200138Z"
    }
   },
   "outputs": [],
   "source": [
    "# 画树\n",
    "def plotTree(myTree, parentPt, nodeTxt):\n",
    "    numLeafs = getNumLeafs(myTree) #树宽\n",
    "    depth = getTreeDepth(myTree)   #树深\n",
    "    \n",
    "    firstStr = list(myTree.keys())[0]\n",
    "    cntrPt = (plotTree.xOff + (1.0 + float(numLeafs))/2.0/plotTree.totalW, plotTree.yOff)\n",
    "    plotMidText(cntrPt, parentPt, nodeTxt) #标记子节点属性值\n",
    "    plotNode(firstStr, cntrPt, parentPt, decisionNode)\n",
    "    secondDict = myTree[firstStr]\n",
    "    plotTree.yOff = plotTree.yOff - 1.0/plotTree.totalD #按比例减少y坐标值\n",
    "    for key in secondDict.keys():\n",
    "        if type(secondDict[key]).__name__ == 'dict':\n",
    "            plotTree(secondDict[key], cntrPt, str(key))\n",
    "        else:\n",
    "            plotTree.xOff = plotTree.xOff + 1.0/plotTree.totalW\n",
    "            plotNode(secondDict[key], (plotTree.xOff, plotTree.yOff), cntrPt, leafNode)\n",
    "            plotMidText((plotTree.xOff, plotTree.yOff), cntrPt, str(key))\n",
    "    plotTree.yOff = plotTree.yOff + 1.0/plotTree.totalD\n",
    "    "
   ]
  },
  {
   "cell_type": "code",
   "execution_count": 7,
   "metadata": {
    "ExecuteTime": {
     "end_time": "2019-11-01T06:15:22.371738Z",
     "start_time": "2019-11-01T06:15:22.309338Z"
    }
   },
   "outputs": [],
   "source": [
    "def createPlot(inTree):\n",
    "    fig = plt.figure(1, facecolor='white') #创建一个新图形\n",
    "    fig.clf() #清空绘图区\n",
    "    \n",
    "    axprops = dict(xticks=[], yticks=[])\n",
    "    \n",
    "    createPlot.ax1 = plt.subplot(111, frameon=False, **axprops)\n",
    "    \n",
    "    # 绘制两个不同类型的 树节点\n",
    "#     plotNode('Decision Node', (0.5, 0.1), (0.1,0.5), decisionNode)\n",
    "#     plotNode('Leaf Node',(0.8,0.1),(0.3,0.8), leafNode)\n",
    "    \n",
    "    plotTree.totalW = float(getNumLeafs(inTree))\n",
    "    plotTree.totalD = float(getTreeDepth(inTree))\n",
    "    plotTree.xOff = -0.5/plotTree.totalW;\n",
    "    plotTree.yOff = 1.0\n",
    "    \n",
    "    plotTree(inTree, (0.5, 1.0), '')\n",
    "    \n",
    "    plt.show()"
   ]
  },
  {
   "cell_type": "code",
   "execution_count": 8,
   "metadata": {
    "ExecuteTime": {
     "end_time": "2019-11-01T06:15:22.434139Z",
     "start_time": "2019-11-01T06:15:22.371738Z"
    }
   },
   "outputs": [],
   "source": [
    "# 预先存储一个树信息\n",
    "def retrieveTree(i):\n",
    "    listofTree = [{'no surfacing':{0:'no', 1:{'flippers':{0:'no', 1:'yes'}}}},\n",
    "                  {'no surfacing':{0:'no', 1:{'flippers':{0:{'head':{0:'no', 1:'yes'}}, 1:'no'}}}}]\n",
    "    return listofTree[i]"
   ]
  },
  {
   "cell_type": "code",
   "execution_count": 9,
   "metadata": {
    "ExecuteTime": {
     "end_time": "2019-11-01T06:15:22.496539Z",
     "start_time": "2019-11-01T06:15:22.434139Z"
    }
   },
   "outputs": [
    {
     "name": "stdout",
     "output_type": "stream",
     "text": [
      "number of leaf nodes:  3\n",
      "number of tree depth:  2\n",
      "{'no surfacing': {0: 'no', 1: {'flippers': {0: 'no', 1: 'yes'}}}}\n"
     ]
    }
   ],
   "source": [
    "myTree = retrieveTree(0)\n",
    "\n",
    "print('number of leaf nodes: ',getNumLeafs(myTree))\n",
    "\n",
    "print('number of tree depth: ', getTreeDepth(myTree))\n",
    "print(myTree)"
   ]
  },
  {
   "cell_type": "code",
   "execution_count": 10,
   "metadata": {
    "ExecuteTime": {
     "end_time": "2019-11-01T06:15:22.808539Z",
     "start_time": "2019-11-01T06:15:22.496539Z"
    }
   },
   "outputs": [
    {
     "data": {
      "image/png": "[encoded data removed]",
      "text/plain": [
       "<Figure size 432x288 with 1 Axes>"
      ]
     },
     "metadata": {},
     "output_type": "display_data"
    }
   ],
   "source": [
    "createPlot(myTree)"
   ]
  },
  {
   "cell_type": "code",
   "execution_count": 12,
   "metadata": {
    "ExecuteTime": {
     "end_time": "2019-11-01T06:16:03.087810Z",
     "start_time": "2019-11-01T06:16:03.072210Z"
    }
   },
   "outputs": [],
   "source": [
    "myTree['no surfacing'][3] = 'maybe'"
   ]
  },
  {
   "cell_type": "code",
   "execution_count": 13,
   "metadata": {
    "ExecuteTime": {
     "end_time": "2019-11-01T06:16:15.255831Z",
     "start_time": "2019-11-01T06:16:15.068631Z"
    }
   },
   "outputs": [
    {
     "data": {
      "image/png": "[encoded data removed]",
      "text/plain": [
       "<Figure size 432x288 with 1 Axes>"
      ]
     },
     "metadata": {},
     "output_type": "display_data"
    }
   ],
   "source": [
    "createPlot(myTree)"
   ]
  },
  {
   "cell_type": "markdown",
   "metadata": {},
   "source": [
    "## Test"
   ]
  },
  {
   "cell_type": "code",
   "execution_count": 27,
   "metadata": {
    "ExecuteTime": {
     "end_time": "2019-11-01T06:35:23.263848Z",
     "start_time": "2019-11-01T06:35:23.248248Z"
    }
   },
   "outputs": [],
   "source": [
    "def classify(inputTree, featLabels, testVec):\n",
    "    firstStr = list(inputTree.keys())[0]\n",
    "    print('firstStr: ', firstStr)\n",
    "    secondTree = inputTree[firstStr]\n",
    "    featIndex = featLabels.index(firstStr)\n",
    "    print('featIndex: ', featIndex)\n",
    "    \n",
    "    for key in secondTree.keys():\n",
    "        print('key: ', key)\n",
    "        if testVec[featIndex] == key:\n",
    "            if type(secondTree[key]).__name__ == 'dict': #下面还有分支,递归继续往下\n",
    "                classLabel = classify(secondTree[key], featLabels, testVec)\n",
    "            else:\n",
    "                classLabel = secondTree[key]\n",
    "    return classLabel"
   ]
  },
  {
   "cell_type": "code",
   "execution_count": 16,
   "metadata": {
    "ExecuteTime": {
     "end_time": "2019-11-01T06:33:02.348800Z",
     "start_time": "2019-11-01T06:33:02.317600Z"
    }
   },
   "outputs": [
    {
     "name": "stdout",
     "output_type": "stream",
     "text": [
      "['no surfacing', 'flippers']\n"
     ]
    }
   ],
   "source": [
    "myDat, labels = createDataset()\n",
    "print(labels)"
   ]
  },
  {
   "cell_type": "code",
   "execution_count": 17,
   "metadata": {
    "ExecuteTime": {
     "end_time": "2019-11-01T06:33:22.270035Z",
     "start_time": "2019-11-01T06:33:22.238835Z"
    }
   },
   "outputs": [
    {
     "name": "stdout",
     "output_type": "stream",
     "text": [
      "{'no surfacing': {0: 'no', 1: {'flippers': {0: 'no', 1: 'yes'}}}}\n"
     ]
    }
   ],
   "source": [
    "myTree = retrieveTree(0)\n",
    "print(myTree)"
   ]
  },
  {
   "cell_type": "code",
   "execution_count": 29,
   "metadata": {
    "ExecuteTime": {
     "end_time": "2019-11-01T06:35:37.615873Z",
     "start_time": "2019-11-01T06:35:37.600273Z"
    }
   },
   "outputs": [
    {
     "name": "stdout",
     "output_type": "stream",
     "text": [
      "firstStr:  no surfacing\n",
      "featIndex:  0\n",
      "key:  0\n",
      "key:  1\n",
      "firstStr:  flippers\n",
      "featIndex:  1\n",
      "key:  0\n",
      "key:  1\n"
     ]
    },
    {
     "data": {
      "text/plain": [
       "'yes'"
      ]
     },
     "execution_count": 29,
     "metadata": {},
     "output_type": "execute_result"
    }
   ],
   "source": [
    "classify(myTree, labels, [1, 1])"
   ]
  },
  {
   "cell_type": "markdown",
   "metadata": {},
   "source": [
    "## save"
   ]
  },
  {
   "cell_type": "code",
   "execution_count": 36,
   "metadata": {
    "ExecuteTime": {
     "end_time": "2019-11-01T06:41:17.263670Z",
     "start_time": "2019-11-01T06:41:17.248070Z"
    }
   },
   "outputs": [],
   "source": [
    "def storeTree(inputTree, filename):\n",
    "    import pickle\n",
    "    fw = open(filename, 'wb+')\n",
    "    pickle.dump(inputTree, fw)\n",
    "    fw.close()"
   ]
  },
  {
   "cell_type": "code",
   "execution_count": 39,
   "metadata": {
    "ExecuteTime": {
     "end_time": "2019-11-01T06:43:46.477932Z",
     "start_time": "2019-11-01T06:43:46.462332Z"
    }
   },
   "outputs": [],
   "source": [
    "def loadTree(filename):\n",
    "    import pickle\n",
    "    fr = open(filename, 'rb+')\n",
    "    return pickle.load(fr)"
   ]
  },
  {
   "cell_type": "code",
   "execution_count": 37,
   "metadata": {
    "ExecuteTime": {
     "end_time": "2019-11-01T06:41:19.650474Z",
     "start_time": "2019-11-01T06:41:19.619274Z"
    }
   },
   "outputs": [],
   "source": [
    "storeTree(myTree, 'MLiAc3_lx.txt')"
   ]
  },
  {
   "cell_type": "code",
   "execution_count": 40,
   "metadata": {
    "ExecuteTime": {
     "end_time": "2019-11-01T06:43:47.897534Z",
     "start_time": "2019-11-01T06:43:47.866334Z"
    }
   },
   "outputs": [
    {
     "data": {
      "text/plain": [
       "{'no surfacing': {0: 'no', 1: {'flippers': {0: 'no', 1: 'yes'}}}}"
      ]
     },
     "execution_count": 40,
     "metadata": {},
     "output_type": "execute_result"
    }
   ],
   "source": [
    "loadTree('MLiAc3_lx.txt')"
   ]
  },
  {
   "cell_type": "code",
   "execution_count": null,
   "metadata": {},
   "outputs": [],
   "source": []
  },
  {
   "cell_type": "markdown",
   "metadata": {},
   "source": [
    "# 预测隐形眼镜类型"
   ]
  },
  {
   "cell_type": "code",
   "execution_count": 42,
   "metadata": {
    "ExecuteTime": {
     "end_time": "2019-11-01T06:49:52.641775Z",
     "start_time": "2019-11-01T06:49:52.626175Z"
    }
   },
   "outputs": [],
   "source": [
    "fr = open('MLiAc3_lenses.txt') \n",
    "lenses = [item.strip().split('\\t') for item in fr.readlines()]"
   ]
  },
  {
   "cell_type": "code",
   "execution_count": 46,
   "metadata": {
    "ExecuteTime": {
     "end_time": "2019-11-01T06:50:26.678237Z",
     "start_time": "2019-11-01T06:50:26.647037Z"
    }
   },
   "outputs": [
    {
     "name": "stdout",
     "output_type": "stream",
     "text": [
      "24\n"
     ]
    }
   ],
   "source": [
    "print(len(lenses))"
   ]
  },
  {
   "cell_type": "code",
   "execution_count": 47,
   "metadata": {
    "ExecuteTime": {
     "end_time": "2019-11-01T06:51:12.557918Z",
     "start_time": "2019-11-01T06:51:12.542318Z"
    }
   },
   "outputs": [],
   "source": [
    "lenses_label = ['age', 'prescript', 'astigmatic', 'tearRate']\n",
    "                #年龄，            ， 散光，        磨损率"
   ]
  },
  {
   "cell_type": "code",
   "execution_count": 49,
   "metadata": {
    "ExecuteTime": {
     "end_time": "2019-11-01T06:53:27.732155Z",
     "start_time": "2019-11-01T06:53:27.700955Z"
    }
   },
   "outputs": [
    {
     "name": "stdout",
     "output_type": "stream",
     "text": [
      "{'tearRate': {'reduced': 'no lenses', 'normal': {'prescript': {'myope': {'astigmatic': {'yes': 'hard', 'no': {'age': {'young': 'soft', 'presbyopic': 'no lenses', 'pre': 'soft'}}}}, 'hyper': {'astigmatic': {'yes': {'age': {'young': 'hard', 'presbyopic': 'no lenses', 'pre': 'no lenses'}}, 'no': 'soft'}}}}}}\n"
     ]
    }
   ],
   "source": [
    "lensesTree = createTree(lenses, lenses_label)\n",
    "print(lensesTree)"
   ]
  },
  {
   "cell_type": "code",
   "execution_count": 50,
   "metadata": {
    "ExecuteTime": {
     "end_time": "2019-11-01T06:53:57.746608Z",
     "start_time": "2019-11-01T06:53:57.356607Z"
    }
   },
   "outputs": [
    {
     "data": {
      "image/png": "[encoded data removed]",
      "text/plain": [
       "<Figure size 432x288 with 1 Axes>"
      ]
     },
     "metadata": {},
     "output_type": "display_data"
    }
   ],
   "source": [
    "createPlot(lensesTree)"
   ]
  },
  {
   "cell_type": "code",
   "execution_count": null,
   "metadata": {},
   "outputs": [],
   "source": []
  }
 ],
 "metadata": {
  "kernelspec": {
   "display_name": "Python 3",
   "language": "python",
   "name": "python3"
  },
  "language_info": {
   "codemirror_mode": {
    "name": "ipython",
    "version": 3
   },
   "file_extension": ".py",
   "mimetype": "text/x-python",
   "name": "python",
   "nbconvert_exporter": "python",
   "pygments_lexer": "ipython3",
   "version": "3.7.0"
  },
  "toc": {
   "base_numbering": 1,
   "nav_menu": {},
   "number_sections": true,
   "sideBar": true,
   "skip_h1_title": false,
   "title_cell": "Table of Contents",
   "title_sidebar": "Contents",
   "toc_cell": false,
   "toc_position": {},
   "toc_section_display": true,
   "toc_window_display": true
  },
  "varInspector": {
   "cols": {
    "lenName": 16,
    "lenType": 16,
    "lenVar": 40
   },
   "kernels_config": {
    "python": {
     "delete_cmd_postfix": "",
     "delete_cmd_prefix": "del ",
     "library": "var_list.py",
     "varRefreshCmd": "print(var_dic_list())"
    },
    "r": {
     "delete_cmd_postfix": ") ",
     "delete_cmd_prefix": "rm(",
     "library": "var_list.r",
     "varRefreshCmd": "cat(var_dic_list()) "
    }
   },
   "types_to_exclude": [
    "module",
    "function",
    "builtin_function_or_method",
    "instance",
    "_Feature"
   ],
   "window_display": false
  }
 },
 "nbformat": 4,
 "nbformat_minor": 1
}
