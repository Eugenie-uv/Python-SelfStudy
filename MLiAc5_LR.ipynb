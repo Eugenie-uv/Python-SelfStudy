{
 "cells": [
  {
   "cell_type": "markdown",
   "metadata": {},
   "source": [
    "# Case 1"
   ]
  },
  {
   "cell_type": "markdown",
   "metadata": {},
   "source": [
    "## Logistic 回归 + 梯度上升优化算法"
   ]
  },
  {
   "cell_type": "code",
   "execution_count": 52,
   "metadata": {
    "ExecuteTime": {
     "end_time": "2019-11-18T14:23:43.016399Z",
     "start_time": "2019-11-18T14:23:42.985198Z"
    }
   },
   "outputs": [],
   "source": [
    "import numpy as np\n",
    "def loadDataSet():\n",
    "    dataMat = []; labelMat = []\n",
    "    fr = open('MLiAc5_testSet.txt')\n",
    "    for line in fr.readlines():\n",
    "        lineArr = line.strip().split() #去掉前后空格 拆分行成字符串\n",
    "        dataMat.append([1.0, float(lineArr[0]), float(lineArr[1])]) #X1=1.0 X2 X3\n",
    "        labelMat.append(int(lineArr[2])) # 1*100\n",
    "    return dataMat, labelMat\n",
    "\n",
    "def sigmoid(X):\n",
    "    return 1.0/(1+np.exp(-X))\n",
    "\n",
    "# 梯度上升法\n",
    "def gradAscent(data, label):\n",
    "    data = np.mat(data) #2D数组 100*3\n",
    "    label = np.mat(label).transpose() #100*1\n",
    "    m, n = np.shape(data)\n",
    "    print('m, n = ',m,n)\n",
    "    alpha = 0.001\n",
    "    iters = 500\n",
    "    weights = np.zeros((n,1))\n",
    "    for i in range(iters):\n",
    "        h = sigmoid(data * weights) #矩阵\n",
    "        error = label - h #向量 矩阵\n",
    "        weights += alpha * data.transpose() * error\n",
    "    return weights\n",
    "\n",
    "# 随机梯度上升法 \n",
    "# 学习率调整，迭代多次\n",
    "def stocGradAscent_0(data, label):\n",
    "    data = np.array(data)\n",
    "    m, n = np.shape(data)\n",
    "    alpha = 0.001\n",
    "    weights = np.ones(n)\n",
    "    for i in range(m):\n",
    "        h = sigmoid(sum(data[i]*weights)) #数\n",
    "        error = label[i] - h #数\n",
    "        weights += alpha * error * data[i]\n",
    "    return weights\n",
    "\n",
    "# 学习率调整，迭代多次\n",
    "def stocGradAscent(data, label, Iters=150):\n",
    "    import random\n",
    "    data = np.array(data)\n",
    "    m, n = np.shape(data)\n",
    "    weights = np.ones(n)\n",
    "    X0=[];X1=[];X2=[]\n",
    "    \n",
    "    for j in range(Iters): #迭代次数\n",
    "        dataIndex = list(range(m))\n",
    "        for i in range(m): #样本点下标\n",
    "            alpha = 4/(1.+j+i)+0.01 #learning rate随迭代次数不断减小\n",
    "            randIndex = int(random.uniform(0, len(dataIndex))) #随机选取样本来更新回归系数：减少周期性波动\n",
    "            h = sigmoid(sum(data[randIndex]*weights)) #数\n",
    "            error = label[randIndex] - h #数\n",
    "            weights += alpha * error * data[randIndex] \n",
    "            del(dataIndex[randIndex]) #删除已训练过的样本号\n",
    "            \n",
    "            X0.append(weights[0]);X1.append(weights[1]);X2.append(weights[2])\n",
    "            hist = [X0, X1, X2]\n",
    "    return weights  , hist     "
   ]
  },
  {
   "cell_type": "code",
   "execution_count": 38,
   "metadata": {
    "ExecuteTime": {
     "end_time": "2019-11-18T14:19:08.170115Z",
     "start_time": "2019-11-18T14:19:08.107715Z"
    }
   },
   "outputs": [
    {
     "name": "stdout",
     "output_type": "stream",
     "text": [
      "m, n =  100 3\n"
     ]
    },
    {
     "data": {
      "text/plain": [
       "array([[ 3.90548504],\n",
       "       [ 0.46094335],\n",
       "       [-0.58933895]])"
      ]
     },
     "execution_count": 38,
     "metadata": {},
     "output_type": "execute_result"
    }
   ],
   "source": [
    "data, label = loadDataSet()\n",
    "gradAscent(data, label)"
   ]
  },
  {
   "cell_type": "markdown",
   "metadata": {},
   "source": [
    "## plot"
   ]
  },
  {
   "cell_type": "code",
   "execution_count": 54,
   "metadata": {
    "ExecuteTime": {
     "end_time": "2019-11-18T14:27:06.800556Z",
     "start_time": "2019-11-18T14:27:06.769356Z"
    }
   },
   "outputs": [],
   "source": [
    "def plotLR(weights):\n",
    "    import matplotlib.pyplot as plt\n",
    "    %matplotlib inline\n",
    "    import numpy as np\n",
    "    data, label = loadDataSet()\n",
    "    data_array = np.array(data)\n",
    "    n = np.shape(data_array)[0] #行：样本数\n",
    "    xcord1 = []; ycord1 = [] #X1 X2分布 按标签分开\n",
    "    xcord2 = []; ycord2 = []\n",
    "    for i in range(n):\n",
    "        if int(label[i]) == 1:\n",
    "            xcord1.append(data_array[i, 1]); ycord1.append(data_array[i, 2])\n",
    "        else:\n",
    "            xcord2.append(data_array[i, 1]); ycord2.append(data_array[i, 2])\n",
    "    \n",
    "    fig = plt.figure(figsize=(8,6))\n",
    "    ax = fig.add_subplot(111)\n",
    "    # scatter\n",
    "    ax.scatter(xcord1, ycord1, s=30, c='red', marker='s') #label=1时散点图\n",
    "    ax.scatter(xcord2, ycord2, s=30, c='blue')\n",
    "    # line\n",
    "    x = np.arange(-3.0, 3.0, 0.1)\n",
    "    y = (-weights[0] - weights[1]*x) / weights[2] #(w0x0+w1x1+w2x2=0, x0=1)\n",
    "    ax.plot(x, y)\n",
    "    \n",
    "    plt.xlabel('X1'); plt.ylabel('X2')\n",
    "    plt.show()\n",
    "\n",
    "def plotXs(Xs):\n",
    "    import matplotlib.pyplot as plt\n",
    "    %matplotlib inline\n",
    "    import numpy as np\n",
    "    X0 = Xs[0]; X1 = Xs[1]; X2 = Xs[2]\n",
    "    \n",
    "    fig = plt.figure(figsize=(8,6))\n",
    "    ax = fig.add_subplot(311)\n",
    "    plt.plot(X0)\n",
    "    plt.ylabel('X0')\n",
    "    ax = fig.add_subplot(312)\n",
    "    plt.plot(X1)\n",
    "    plt.ylabel('X1')\n",
    "    ax = fig.add_subplot(313)\n",
    "    plt.plot(X2)\n",
    "    plt.ylabel('X2')\n",
    "    plt.xlabel('Iterations');\n",
    "    plt.show()"
   ]
  },
  {
   "cell_type": "code",
   "execution_count": 28,
   "metadata": {
    "ExecuteTime": {
     "end_time": "2019-11-18T12:38:37.975519Z",
     "start_time": "2019-11-18T12:38:37.554319Z"
    }
   },
   "outputs": [
    {
     "name": "stdout",
     "output_type": "stream",
     "text": [
      "m, n =  100 3\n",
      "GranAscent Weights:  [[ 3.90548504]\n",
      " [ 0.46094335]\n",
      " [-0.58933895]]\n"
     ]
    },
    {
     "data": {
      "image/png": "[encoded data removed]",
      "text/plain": [
       "<Figure size 576x432 with 1 Axes>"
      ]
     },
     "metadata": {
      "needs_background": "light"
     },
     "output_type": "display_data"
    },
    {
     "name": "stdout",
     "output_type": "stream",
     "text": [
      "StocGranAscent Weights:  [0.963951   0.9826866  0.49153886]\n"
     ]
    },
    {
     "data": {
      "image/png": "[encoded data removed]",
      "text/plain": [
       "<Figure size 576x432 with 1 Axes>"
      ]
     },
     "metadata": {
      "needs_background": "light"
     },
     "output_type": "display_data"
    }
   ],
   "source": [
    "weights =  gradAscent(data, label) \n",
    "print('GranAscent Weights: ',weights)\n",
    "plotLR(weights)\n",
    "\n",
    "weights =  stocGradAscent_0(data, label)  \n",
    "print('StocGranAscent Weights: ',weights)\n",
    "plotLR(weights)\n"
   ]
  },
  {
   "cell_type": "code",
   "execution_count": 58,
   "metadata": {
    "ExecuteTime": {
     "end_time": "2019-11-18T14:29:51.711446Z",
     "start_time": "2019-11-18T14:29:50.853445Z"
    }
   },
   "outputs": [
    {
     "name": "stdout",
     "output_type": "stream",
     "text": [
      "StocGranAscent Weights:  [13.80896844  0.92083505 -1.92324288]\n"
     ]
    },
    {
     "data": {
      "image/png": "[encoded data removed]",
      "text/plain": [
       "<Figure size 576x432 with 1 Axes>"
      ]
     },
     "metadata": {
      "needs_background": "light"
     },
     "output_type": "display_data"
    },
    {
     "data": {
      "image/png": "[encoded data removed]",
      "text/plain": [
       "<Figure size 576x432 with 3 Axes>"
      ]
     },
     "metadata": {
      "needs_background": "light"
     },
     "output_type": "display_data"
    }
   ],
   "source": [
    "weights ,hist =  stocGradAscent(data, label) #,500) \n",
    "print('StocGranAscent Weights: ',weights)\n",
    "plotLR(weights)\n",
    "plotXs(hist)"
   ]
  },
  {
   "cell_type": "markdown",
   "metadata": {},
   "source": [
    "# Case 2: 从疝气病症预测病马的死亡率\n",
    "368个样本 28个特征"
   ]
  },
  {
   "cell_type": "markdown",
   "metadata": {},
   "source": [
    "## data process\n",
    "处理缺失数据：已处理好的"
   ]
  },
  {
   "cell_type": "markdown",
   "metadata": {},
   "source": [
    "## test algrithom"
   ]
  },
  {
   "cell_type": "code",
   "execution_count": 85,
   "metadata": {
    "ExecuteTime": {
     "end_time": "2019-11-18T15:04:14.434471Z",
     "start_time": "2019-11-18T15:04:14.403271Z"
    }
   },
   "outputs": [],
   "source": [
    "def classifySigmoid(X, weights):\n",
    "    prob = sigmoid(sum(X*weights))\n",
    "    if prob > 0.5: return 1\n",
    "    else: return 0\n",
    "\n",
    "def horseTest():\n",
    "    import numpy as np\n",
    "    \n",
    "    frTrain = open('MLiAc5_horseColicTraining.txt')\n",
    "    frTest = open('MLiAc5_horseColicTest.txt')\n",
    "    trainData = []; trainLabel = []\n",
    "    for line in frTrain.readlines():\n",
    "        currline = line.strip().split('\\t') #以跳格键分割的标签\n",
    "        lineArr = []\n",
    "        for i in range(21):\n",
    "            lineArr.append(float(currline[i]))\n",
    "        trainData.append(lineArr)\n",
    "        trainLabel.append(float(currline[21]))\n",
    "    trainWeights,hist = stocGradAscent(np.array(trainData), trainLabel, 500)\n",
    "    \n",
    "    errorCount = 0\n",
    "    numTest = 0.0\n",
    "    for line in frTest.readlines():\n",
    "        numTest += 1\n",
    "        currline = line.strip().split('\\t')\n",
    "        lineArr = []\n",
    "        for i in range(21):\n",
    "            lineArr.append(float(currline[i]))  \n",
    "        predict = classifySigmoid(np.array(lineArr), trainWeights)\n",
    "        if int(predict) != int(currline[21]):\n",
    "            errorCount += 1\n",
    "            print('No. %d Test is %s but predicted as %s.'%(numTest, currline[21], predict))\n",
    "    errorRate = float(errorCount)/numTest\n",
    "    print(\"The error rate of this test is %f\"%errorRate)\n",
    "    return errorRate\n",
    "\n",
    "# 多次测试 10次测试取平均\n",
    "def multiTest(numTests=10):\n",
    "    errorSum = 0.0\n",
    "    for k in range(numTests):\n",
    "        print(' - '*6, 'Test No.%d/%d'%(k+1, numTests), ' - '*6)\n",
    "        errorSum += horseTest()\n",
    "    print(\" == \"*8)\n",
    "    print(\"After %d tests, the average error rate is %f\"%(numTests, errorSum/numTests))"
   ]
  },
  {
   "cell_type": "code",
   "execution_count": 77,
   "metadata": {
    "ExecuteTime": {
     "end_time": "2019-11-18T15:00:39.557693Z",
     "start_time": "2019-11-18T15:00:35.158485Z"
    }
   },
   "outputs": [
    {
     "name": "stderr",
     "output_type": "stream",
     "text": [
      "C:\\Users\\user\\Anaconda3\\lib\\site-packages\\ipykernel_launcher.py:12: RuntimeWarning: overflow encountered in exp\n",
      "  if sys.path[0] == '':\n"
     ]
    },
    {
     "name": "stdout",
     "output_type": "stream",
     "text": [
      "No. 3 Test is 1 but predicted as 0.\n",
      "No. 5 Test is 1 but predicted as 0.\n",
      "No. 8 Test is 1 but predicted as 0.\n",
      "No. 14 Test is 1 but predicted as 0.\n",
      "No. 15 Test is 1 but predicted as 0.\n",
      "No. 16 Test is 1 but predicted as 0.\n",
      "No. 21 Test is 1 but predicted as 0.\n",
      "No. 22 Test is 1 but predicted as 0.\n",
      "No. 25 Test is 1 but predicted as 0.\n",
      "No. 28 Test is 1 but predicted as 0.\n",
      "No. 32 Test is 1 but predicted as 0.\n",
      "No. 33 Test is 1 but predicted as 0.\n",
      "No. 35 Test is 1 but predicted as 0.\n",
      "No. 37 Test is 1 but predicted as 0.\n",
      "No. 38 Test is 1 but predicted as 0.\n",
      "No. 39 Test is 1 but predicted as 0.\n",
      "No. 43 Test is 1 but predicted as 0.\n",
      "No. 45 Test is 1 but predicted as 0.\n",
      "No. 46 Test is 1 but predicted as 0.\n",
      "No. 47 Test is 1 but predicted as 0.\n",
      "No. 48 Test is 1 but predicted as 0.\n",
      "No. 49 Test is 1 but predicted as 0.\n",
      "No. 53 Test is 0 but predicted as 1.\n",
      "No. 54 Test is 1 but predicted as 0.\n",
      "No. 57 Test is 1 but predicted as 0.\n",
      "No. 59 Test is 1 but predicted as 0.\n",
      "No. 60 Test is 1 but predicted as 0.\n",
      "No. 61 Test is 1 but predicted as 0.\n",
      "No. 63 Test is 1 but predicted as 0.\n",
      "No. 66 Test is 1 but predicted as 0.\n",
      "The error rate of this test is 0.447761\n"
     ]
    },
    {
     "data": {
      "text/plain": [
       "0.44776119402985076"
      ]
     },
     "execution_count": 77,
     "metadata": {},
     "output_type": "execute_result"
    }
   ],
   "source": [
    "horseTest()"
   ]
  },
  {
   "cell_type": "code",
   "execution_count": 84,
   "metadata": {
    "ExecuteTime": {
     "end_time": "2019-11-18T15:03:53.374434Z",
     "start_time": "2019-11-18T15:03:25.184184Z"
    }
   },
   "outputs": [
    {
     "name": "stdout",
     "output_type": "stream",
     "text": [
      " -  -  -  -  -  -  Test No.1/10  -  -  -  -  -  - \n"
     ]
    },
    {
     "name": "stderr",
     "output_type": "stream",
     "text": [
      "C:\\Users\\user\\Anaconda3\\lib\\site-packages\\ipykernel_launcher.py:12: RuntimeWarning: overflow encountered in exp\n",
      "  if sys.path[0] == '':\n"
     ]
    },
    {
     "name": "stdout",
     "output_type": "stream",
     "text": [
      "No. 5 Test is 1 but predicted as 0.\n",
      "No. 15 Test is 1 but predicted as 0.\n",
      "No. 21 Test is 1 but predicted as 0.\n",
      "No. 28 Test is 1 but predicted as 0.\n",
      "No. 32 Test is 1 but predicted as 0.\n",
      "No. 33 Test is 1 but predicted as 0.\n",
      "No. 35 Test is 1 but predicted as 0.\n",
      "No. 38 Test is 1 but predicted as 0.\n",
      "No. 43 Test is 1 but predicted as 0.\n",
      "No. 45 Test is 1 but predicted as 0.\n",
      "No. 46 Test is 1 but predicted as 0.\n",
      "No. 48 Test is 1 but predicted as 0.\n",
      "No. 52 Test is 0 but predicted as 1.\n",
      "No. 53 Test is 0 but predicted as 1.\n",
      "No. 54 Test is 1 but predicted as 0.\n",
      "No. 57 Test is 1 but predicted as 0.\n",
      "No. 58 Test is 0 but predicted as 1.\n",
      "No. 59 Test is 1 but predicted as 0.\n",
      "No. 60 Test is 1 but predicted as 0.\n",
      "No. 65 Test is 0 but predicted as 1.\n",
      "No. 67 Test is 0 but predicted as 1.\n",
      "The error rate of this test is 0.313433\n",
      " -  -  -  -  -  -  Test No.2/10  -  -  -  -  -  - \n",
      "No. 5 Test is 1 but predicted as 0.\n",
      "No. 15 Test is 1 but predicted as 0.\n",
      "No. 21 Test is 1 but predicted as 0.\n",
      "No. 28 Test is 1 but predicted as 0.\n",
      "No. 32 Test is 1 but predicted as 0.\n",
      "No. 33 Test is 1 but predicted as 0.\n",
      "No. 35 Test is 1 but predicted as 0.\n",
      "No. 37 Test is 1 but predicted as 0.\n",
      "No. 38 Test is 1 but predicted as 0.\n",
      "No. 43 Test is 1 but predicted as 0.\n",
      "No. 45 Test is 1 but predicted as 0.\n",
      "No. 46 Test is 1 but predicted as 0.\n",
      "No. 48 Test is 1 but predicted as 0.\n",
      "No. 52 Test is 0 but predicted as 1.\n",
      "No. 53 Test is 0 but predicted as 1.\n",
      "No. 58 Test is 0 but predicted as 1.\n",
      "No. 59 Test is 1 but predicted as 0.\n",
      "No. 60 Test is 1 but predicted as 0.\n",
      "No. 65 Test is 0 but predicted as 1.\n",
      "No. 67 Test is 0 but predicted as 1.\n",
      "The error rate of this test is 0.298507\n",
      " -  -  -  -  -  -  Test No.3/10  -  -  -  -  -  - \n",
      "No. 3 Test is 1 but predicted as 0.\n",
      "No. 5 Test is 1 but predicted as 0.\n",
      "No. 15 Test is 1 but predicted as 0.\n",
      "No. 21 Test is 1 but predicted as 0.\n",
      "No. 28 Test is 1 but predicted as 0.\n",
      "No. 32 Test is 1 but predicted as 0.\n",
      "No. 33 Test is 1 but predicted as 0.\n",
      "No. 35 Test is 1 but predicted as 0.\n",
      "No. 43 Test is 1 but predicted as 0.\n",
      "No. 45 Test is 1 but predicted as 0.\n",
      "No. 46 Test is 1 but predicted as 0.\n",
      "No. 48 Test is 1 but predicted as 0.\n",
      "No. 52 Test is 0 but predicted as 1.\n",
      "No. 53 Test is 0 but predicted as 1.\n",
      "No. 57 Test is 1 but predicted as 0.\n",
      "No. 59 Test is 1 but predicted as 0.\n",
      "No. 60 Test is 1 but predicted as 0.\n",
      "No. 67 Test is 0 but predicted as 1.\n",
      "The error rate of this test is 0.268657\n",
      " -  -  -  -  -  -  Test No.4/10  -  -  -  -  -  - \n",
      "No. 1 Test is 1 but predicted as 0.\n",
      "No. 3 Test is 1 but predicted as 0.\n",
      "No. 5 Test is 1 but predicted as 0.\n",
      "No. 8 Test is 1 but predicted as 0.\n",
      "No. 14 Test is 1 but predicted as 0.\n",
      "No. 15 Test is 1 but predicted as 0.\n",
      "No. 16 Test is 1 but predicted as 0.\n",
      "No. 21 Test is 1 but predicted as 0.\n",
      "No. 22 Test is 1 but predicted as 0.\n",
      "No. 26 Test is 1 but predicted as 0.\n",
      "No. 28 Test is 1 but predicted as 0.\n",
      "No. 32 Test is 1 but predicted as 0.\n",
      "No. 33 Test is 1 but predicted as 0.\n",
      "No. 35 Test is 1 but predicted as 0.\n",
      "No. 37 Test is 1 but predicted as 0.\n",
      "No. 38 Test is 1 but predicted as 0.\n",
      "No. 43 Test is 1 but predicted as 0.\n",
      "No. 45 Test is 1 but predicted as 0.\n",
      "No. 46 Test is 1 but predicted as 0.\n",
      "No. 47 Test is 1 but predicted as 0.\n",
      "No. 48 Test is 1 but predicted as 0.\n",
      "No. 49 Test is 1 but predicted as 0.\n",
      "No. 52 Test is 0 but predicted as 1.\n",
      "No. 53 Test is 0 but predicted as 1.\n",
      "No. 54 Test is 1 but predicted as 0.\n",
      "No. 57 Test is 1 but predicted as 0.\n",
      "No. 59 Test is 1 but predicted as 0.\n",
      "No. 60 Test is 1 but predicted as 0.\n",
      "No. 61 Test is 1 but predicted as 0.\n",
      "No. 63 Test is 1 but predicted as 0.\n",
      "No. 66 Test is 1 but predicted as 0.\n",
      "The error rate of this test is 0.462687\n",
      " -  -  -  -  -  -  Test No.5/10  -  -  -  -  -  - \n",
      "No. 5 Test is 1 but predicted as 0.\n",
      "No. 14 Test is 1 but predicted as 0.\n",
      "No. 15 Test is 1 but predicted as 0.\n",
      "No. 21 Test is 1 but predicted as 0.\n",
      "No. 28 Test is 1 but predicted as 0.\n",
      "No. 32 Test is 1 but predicted as 0.\n",
      "No. 33 Test is 1 but predicted as 0.\n",
      "No. 35 Test is 1 but predicted as 0.\n",
      "No. 37 Test is 1 but predicted as 0.\n",
      "No. 38 Test is 1 but predicted as 0.\n",
      "No. 43 Test is 1 but predicted as 0.\n",
      "No. 45 Test is 1 but predicted as 0.\n",
      "No. 46 Test is 1 but predicted as 0.\n",
      "No. 48 Test is 1 but predicted as 0.\n",
      "No. 52 Test is 0 but predicted as 1.\n",
      "No. 53 Test is 0 but predicted as 1.\n",
      "No. 58 Test is 0 but predicted as 1.\n",
      "No. 60 Test is 1 but predicted as 0.\n",
      "No. 65 Test is 0 but predicted as 1.\n",
      "No. 66 Test is 1 but predicted as 0.\n",
      "No. 67 Test is 0 but predicted as 1.\n",
      "The error rate of this test is 0.313433\n",
      " -  -  -  -  -  -  Test No.6/10  -  -  -  -  -  - \n",
      "No. 5 Test is 1 but predicted as 0.\n",
      "No. 14 Test is 1 but predicted as 0.\n",
      "No. 15 Test is 1 but predicted as 0.\n",
      "No. 21 Test is 1 but predicted as 0.\n",
      "No. 28 Test is 1 but predicted as 0.\n",
      "No. 32 Test is 1 but predicted as 0.\n",
      "No. 33 Test is 1 but predicted as 0.\n",
      "No. 35 Test is 1 but predicted as 0.\n",
      "No. 37 Test is 1 but predicted as 0.\n",
      "No. 43 Test is 1 but predicted as 0.\n",
      "No. 45 Test is 1 but predicted as 0.\n",
      "No. 46 Test is 1 but predicted as 0.\n",
      "No. 48 Test is 1 but predicted as 0.\n",
      "No. 52 Test is 0 but predicted as 1.\n",
      "No. 53 Test is 0 but predicted as 1.\n",
      "No. 58 Test is 0 but predicted as 1.\n",
      "No. 59 Test is 1 but predicted as 0.\n",
      "No. 60 Test is 1 but predicted as 0.\n",
      "No. 67 Test is 0 but predicted as 1.\n",
      "The error rate of this test is 0.283582\n",
      " -  -  -  -  -  -  Test No.7/10  -  -  -  -  -  - \n",
      "No. 3 Test is 1 but predicted as 0.\n",
      "No. 5 Test is 1 but predicted as 0.\n",
      "No. 8 Test is 1 but predicted as 0.\n",
      "No. 14 Test is 1 but predicted as 0.\n",
      "No. 15 Test is 1 but predicted as 0.\n",
      "No. 16 Test is 1 but predicted as 0.\n",
      "No. 21 Test is 1 but predicted as 0.\n",
      "No. 22 Test is 1 but predicted as 0.\n",
      "No. 28 Test is 1 but predicted as 0.\n",
      "No. 32 Test is 1 but predicted as 0.\n",
      "No. 33 Test is 1 but predicted as 0.\n",
      "No. 35 Test is 1 but predicted as 0.\n",
      "No. 37 Test is 1 but predicted as 0.\n",
      "No. 38 Test is 1 but predicted as 0.\n",
      "No. 43 Test is 1 but predicted as 0.\n",
      "No. 45 Test is 1 but predicted as 0.\n",
      "No. 46 Test is 1 but predicted as 0.\n",
      "No. 47 Test is 1 but predicted as 0.\n",
      "No. 48 Test is 1 but predicted as 0.\n",
      "No. 52 Test is 0 but predicted as 1.\n",
      "No. 53 Test is 0 but predicted as 1.\n",
      "No. 54 Test is 1 but predicted as 0.\n",
      "No. 57 Test is 1 but predicted as 0.\n",
      "No. 59 Test is 1 but predicted as 0.\n",
      "No. 60 Test is 1 but predicted as 0.\n",
      "No. 63 Test is 1 but predicted as 0.\n",
      "No. 66 Test is 1 but predicted as 0.\n",
      "The error rate of this test is 0.402985\n",
      " -  -  -  -  -  -  Test No.8/10  -  -  -  -  -  - \n",
      "No. 3 Test is 1 but predicted as 0.\n",
      "No. 5 Test is 1 but predicted as 0.\n",
      "No. 14 Test is 1 but predicted as 0.\n",
      "No. 15 Test is 1 but predicted as 0.\n",
      "No. 16 Test is 1 but predicted as 0.\n",
      "No. 21 Test is 1 but predicted as 0.\n",
      "No. 22 Test is 1 but predicted as 0.\n",
      "No. 28 Test is 1 but predicted as 0.\n",
      "No. 32 Test is 1 but predicted as 0.\n",
      "No. 33 Test is 1 but predicted as 0.\n",
      "No. 35 Test is 1 but predicted as 0.\n",
      "No. 37 Test is 1 but predicted as 0.\n",
      "No. 38 Test is 1 but predicted as 0.\n",
      "No. 43 Test is 1 but predicted as 0.\n",
      "No. 45 Test is 1 but predicted as 0.\n",
      "No. 46 Test is 1 but predicted as 0.\n",
      "No. 47 Test is 1 but predicted as 0.\n",
      "No. 48 Test is 1 but predicted as 0.\n",
      "No. 52 Test is 0 but predicted as 1.\n",
      "No. 53 Test is 0 but predicted as 1.\n",
      "No. 54 Test is 1 but predicted as 0.\n",
      "No. 59 Test is 1 but predicted as 0.\n",
      "No. 60 Test is 1 but predicted as 0.\n",
      "No. 63 Test is 1 but predicted as 0.\n",
      "No. 66 Test is 1 but predicted as 0.\n",
      "The error rate of this test is 0.373134\n",
      " -  -  -  -  -  -  Test No.9/10  -  -  -  -  -  - \n",
      "No. 3 Test is 1 but predicted as 0.\n",
      "No. 5 Test is 1 but predicted as 0.\n",
      "No. 14 Test is 1 but predicted as 0.\n",
      "No. 15 Test is 1 but predicted as 0.\n",
      "No. 16 Test is 1 but predicted as 0.\n",
      "No. 21 Test is 1 but predicted as 0.\n",
      "No. 25 Test is 1 but predicted as 0.\n",
      "No. 28 Test is 1 but predicted as 0.\n",
      "No. 32 Test is 1 but predicted as 0.\n",
      "No. 33 Test is 1 but predicted as 0.\n",
      "No. 35 Test is 1 but predicted as 0.\n",
      "No. 37 Test is 1 but predicted as 0.\n",
      "No. 38 Test is 1 but predicted as 0.\n",
      "No. 39 Test is 1 but predicted as 0.\n",
      "No. 43 Test is 1 but predicted as 0.\n",
      "No. 45 Test is 1 but predicted as 0.\n",
      "No. 46 Test is 1 but predicted as 0.\n",
      "No. 47 Test is 1 but predicted as 0.\n",
      "No. 48 Test is 1 but predicted as 0.\n",
      "No. 49 Test is 1 but predicted as 0.\n",
      "No. 53 Test is 0 but predicted as 1.\n",
      "No. 54 Test is 1 but predicted as 0.\n",
      "No. 57 Test is 1 but predicted as 0.\n",
      "No. 59 Test is 1 but predicted as 0.\n",
      "No. 60 Test is 1 but predicted as 0.\n",
      "No. 63 Test is 1 but predicted as 0.\n",
      "No. 66 Test is 1 but predicted as 0.\n",
      "The error rate of this test is 0.402985\n",
      " -  -  -  -  -  -  Test No.10/10  -  -  -  -  -  - \n"
     ]
    },
    {
     "name": "stdout",
     "output_type": "stream",
     "text": [
      "No. 3 Test is 1 but predicted as 0.\n",
      "No. 5 Test is 1 but predicted as 0.\n",
      "No. 14 Test is 1 but predicted as 0.\n",
      "No. 15 Test is 1 but predicted as 0.\n",
      "No. 21 Test is 1 but predicted as 0.\n",
      "No. 25 Test is 1 but predicted as 0.\n",
      "No. 28 Test is 1 but predicted as 0.\n",
      "No. 32 Test is 1 but predicted as 0.\n",
      "No. 33 Test is 1 but predicted as 0.\n",
      "No. 35 Test is 1 but predicted as 0.\n",
      "No. 37 Test is 1 but predicted as 0.\n",
      "No. 43 Test is 1 but predicted as 0.\n",
      "No. 45 Test is 1 but predicted as 0.\n",
      "No. 46 Test is 1 but predicted as 0.\n",
      "No. 47 Test is 1 but predicted as 0.\n",
      "No. 48 Test is 1 but predicted as 0.\n",
      "No. 49 Test is 1 but predicted as 0.\n",
      "No. 52 Test is 0 but predicted as 1.\n",
      "No. 53 Test is 0 but predicted as 1.\n",
      "No. 54 Test is 1 but predicted as 0.\n",
      "No. 57 Test is 1 but predicted as 0.\n",
      "No. 59 Test is 1 but predicted as 0.\n",
      "No. 60 Test is 1 but predicted as 0.\n",
      "No. 67 Test is 0 but predicted as 1.\n",
      "The error rate of this test is 0.358209\n",
      "After 10 tests, the average error rate is 0.347761\n"
     ]
    }
   ],
   "source": [
    "multiTest()"
   ]
  },
  {
   "cell_type": "code",
   "execution_count": null,
   "metadata": {},
   "outputs": [],
   "source": []
  }
 ],
 "metadata": {
  "kernelspec": {
   "display_name": "Python 3",
   "language": "python",
   "name": "python3"
  },
  "language_info": {
   "codemirror_mode": {
    "name": "ipython",
    "version": 3
   },
   "file_extension": ".py",
   "mimetype": "text/x-python",
   "name": "python",
   "nbconvert_exporter": "python",
   "pygments_lexer": "ipython3",
   "version": "3.7.0"
  },
  "toc": {
   "base_numbering": 1,
   "nav_menu": {},
   "number_sections": true,
   "sideBar": true,
   "skip_h1_title": false,
   "title_cell": "Table of Contents",
   "title_sidebar": "Contents",
   "toc_cell": false,
   "toc_position": {},
   "toc_section_display": true,
   "toc_window_display": false
  },
  "varInspector": {
   "cols": {
    "lenName": 16,
    "lenType": 16,
    "lenVar": 40
   },
   "kernels_config": {
    "python": {
     "delete_cmd_postfix": "",
     "delete_cmd_prefix": "del ",
     "library": "var_list.py",
     "varRefreshCmd": "print(var_dic_list())"
    },
    "r": {
     "delete_cmd_postfix": ") ",
     "delete_cmd_prefix": "rm(",
     "library": "var_list.r",
     "varRefreshCmd": "cat(var_dic_list()) "
    }
   },
   "types_to_exclude": [
    "module",
    "function",
    "builtin_function_or_method",
    "instance",
    "_Feature"
   ],
   "window_display": false
  }
 },
 "nbformat": 4,
 "nbformat_minor": 2
}
