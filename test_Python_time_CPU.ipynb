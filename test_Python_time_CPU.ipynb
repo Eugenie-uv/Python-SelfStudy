{
 "cells": [
  {
   "cell_type": "code",
   "execution_count": 1,
   "metadata": {},
   "outputs": [],
   "source": [
    "import time"
   ]
  },
  {
   "cell_type": "markdown",
   "metadata": {},
   "source": [
    "三种方法求解一个数的因子数的个数\n",
    "Return the count number of divisors of n"
   ]
  },
  {
   "cell_type": "code",
   "execution_count": 4,
   "metadata": {},
   "outputs": [],
   "source": [
    "def countDiv(n):\n",
    "    count = 1\n",
    "    for i in range(1,n):\n",
    "        if n%i == 0:\n",
    "            count += 1\n",
    "    return count\n",
    "\n",
    "def countDiv2(n):\n",
    "    return len([x for x in range(1,n+1) if n%x == 0])\n",
    "\n",
    "def countDiv3(n):\n",
    "    s = set()\n",
    "    for i in range(1,n):\n",
    "        if i in s:\n",
    "            break\n",
    "        elif n%i == 0:\n",
    "            s.update({i, n/i})\n",
    "    return len(s)\n",
    "    "
   ]
  },
  {
   "cell_type": "markdown",
   "metadata": {},
   "source": [
    "CPU时间"
   ]
  },
  {
   "cell_type": "code",
   "execution_count": 6,
   "metadata": {},
   "outputs": [
    {
     "name": "stdout",
     "output_type": "stream",
     "text": [
      "Method 1 cost 0.000143 CPU seconds\n",
      "Method 2 cost 0.000089 CPU seconds\n",
      "Method 3 cost 0.000054 CPU seconds\n"
     ]
    }
   ],
   "source": [
    "start_CPU = time.clock()\n",
    "a = countDiv(678)\n",
    "end_CPU = time.clock()\n",
    "print(\"Method 1 cost %f CPU seconds\" % (end_CPU - start_CPU))\n",
    "\n",
    "start_CPU = time.clock()\n",
    "a = countDiv2(678)\n",
    "end_CPU = time.clock()\n",
    "print(\"Method 2 cost %f CPU seconds\" % (end_CPU - start_CPU))\n",
    "\n",
    "start_CPU = time.clock()\n",
    "a = countDiv3(678)\n",
    "end_CPU = time.clock()\n",
    "print(\"Method 3 cost %f CPU seconds\" % (end_CPU - start_CPU))"
   ]
  },
  {
   "cell_type": "markdown",
   "metadata": {},
   "source": [
    "运行时间"
   ]
  },
  {
   "cell_type": "code",
   "execution_count": 19,
   "metadata": {},
   "outputs": [
    {
     "name": "stdout",
     "output_type": "stream",
     "text": [
      "Method 1 cost 0.000161 seconds\n",
      "Method 2 cost 0.000172 seconds\n",
      "Method 3 cost 0.000094 seconds\n",
      "Percentage: method 1 of 37.67%, method 2 of 0.40%, method 3 of 0.22%.\n"
     ]
    }
   ],
   "source": [
    "start = time.time()\n",
    "a = countDiv(678)\n",
    "end = time.time()\n",
    "time1 = end - start\n",
    "print(\"Method 1 cost %f seconds\" % (time1))\n",
    "\n",
    "start = time.time()\n",
    "a = countDiv2(678)\n",
    "end = time.time()\n",
    "time2 = end - start\n",
    "print(\"Method 2 cost %f seconds\" % (time2))\n",
    "\n",
    "start = time.time()\n",
    "a = countDiv3(678)\n",
    "end = time.time()\n",
    "time3 = end - start\n",
    "print(\"Method 3 cost %f seconds\" % (time3))\n",
    "\n",
    "sumtime = time1+time2+time3\n",
    "print('Percentage: method 1 of %.2f%%, method 2 of %.2f%%, method 3 of %.2f%%.'%(time1/sumtime*100, time2/sumtime, time3/sumtime))\n"
   ]
  }
 ],
 "metadata": {
  "kernelspec": {
   "display_name": "Python 3",
   "language": "python",
   "name": "python3"
  },
  "language_info": {
   "codemirror_mode": {
    "name": "ipython",
    "version": 3
   },
   "file_extension": ".py",
   "mimetype": "text/x-python",
   "name": "python",
   "nbconvert_exporter": "python",
   "pygments_lexer": "ipython3",
   "version": "3.6.5"
  }
 },
 "nbformat": 4,
 "nbformat_minor": 2
}
